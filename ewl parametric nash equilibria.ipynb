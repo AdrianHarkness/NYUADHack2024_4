{
 "cells": [
  {
   "cell_type": "code",
   "execution_count": 1,
   "id": "initial_id",
   "metadata": {
    "collapsed": true,
    "ExecuteTime": {
     "end_time": "2024-04-28T06:41:32.977878Z",
     "start_time": "2024-04-28T06:41:25.096293Z"
    }
   },
   "outputs": [],
   "source": [
    "from qiskit import QuantumCircuit\n",
    "from qiskit.visualization import plot_histogram\n",
    "from qiskit.quantum_info import Operator\n",
    "from logic import *\n",
    "import numpy as np\n",
    "from itertools import product"
   ]
  },
  {
   "cell_type": "markdown",
   "source": [
    "# Circuitry"
   ],
   "metadata": {
    "collapsed": false
   },
   "id": "7f2171869c82307f"
  },
  {
   "cell_type": "code",
   "outputs": [
    {
     "data": {
      "text/plain": "<Figure size 705.35x284.278 with 1 Axes>",
      "image/png": "[encoded data removed]"
     },
     "execution_count": 2,
     "metadata": {},
     "output_type": "execute_result"
    }
   ],
   "source": [
    "circ = QuantumCircuit(2,2)\n",
    "\n",
    "I_2 = np.identity(4)\n",
    "\n",
    "X_2 = np.matrix([[0,0,0,1], \n",
    "                 [0,0,1,0],\n",
    "                 [0,1,0,0],\n",
    "                 [1,0,0,0]])\n",
    "J_2 = Operator(1 / np.sqrt(2) * (I_2 + 1j *X_2))    \n",
    "\n",
    "circ.append(J_2, [0,1])\n",
    "circ.x(0) # assigns the X gate to player 1\n",
    "circ.s(1) # assigns the S gate to player 2\n",
    "circ.append(J_2, [0,1])\n",
    "circ.measure([0,1], [0,1])\n",
    "\n",
    "circ.draw(output='mpl')"
   ],
   "metadata": {
    "collapsed": false,
    "ExecuteTime": {
     "end_time": "2024-04-28T06:41:34.963493Z",
     "start_time": "2024-04-28T06:41:34.151128Z"
    }
   },
   "id": "2cfd041e405e07f6",
   "execution_count": 2
  },
  {
   "cell_type": "markdown",
   "source": [
    "# Examples\n",
    "\n",
    "### # (1) Classical basis of Prisoner's Dilemma"
   ],
   "metadata": {
    "collapsed": false
   },
   "id": "4f08871abf868715"
  },
  {
   "cell_type": "code",
   "outputs": [
    {
     "name": "stdout",
     "output_type": "stream",
     "text": [
      "Game: prisoner\n",
      "Payoffs: \n"
     ]
    },
    {
     "data": {
      "text/plain": "  outcome   payoffs\n0      00  (-1, -1)\n1      01   (-3, 0)\n2      10   (0, -3)\n3      11  (-2, -2)",
      "text/html": "<div>\n<style scoped>\n    .dataframe tbody tr th:only-of-type {\n        vertical-align: middle;\n    }\n\n    .dataframe tbody tr th {\n        vertical-align: top;\n    }\n\n    .dataframe thead th {\n        text-align: right;\n    }\n</style>\n<table border=\"1\" class=\"dataframe\">\n  <thead>\n    <tr style=\"text-align: right;\">\n      <th></th>\n      <th>outcome</th>\n      <th>payoffs</th>\n    </tr>\n  </thead>\n  <tbody>\n    <tr>\n      <th>0</th>\n      <td>00</td>\n      <td>(-1, -1)</td>\n    </tr>\n    <tr>\n      <th>1</th>\n      <td>01</td>\n      <td>(-3, 0)</td>\n    </tr>\n    <tr>\n      <th>2</th>\n      <td>10</td>\n      <td>(0, -3)</td>\n    </tr>\n    <tr>\n      <th>3</th>\n      <td>11</td>\n      <td>(-2, -2)</td>\n    </tr>\n  </tbody>\n</table>\n</div>"
     },
     "execution_count": 3,
     "metadata": {},
     "output_type": "execute_result"
    }
   ],
   "source": [
    "prisoner_game = Game(game_name='prisoner', num_players=2, protocol=\"Classical\")\n",
    "prisoner_game.display_payoffs()"
   ],
   "metadata": {
    "collapsed": false,
    "ExecuteTime": {
     "end_time": "2024-04-28T06:41:35.302436Z",
     "start_time": "2024-04-28T06:41:35.293016Z"
    }
   },
   "id": "a8652963d613171",
   "execution_count": 3
  },
  {
   "cell_type": "code",
   "outputs": [
    {
     "data": {
      "text/plain": "  Outcome   Payoffs     Winners  num_times\n0      11  [-2, -2]  No winners          1",
      "text/html": "<div>\n<style scoped>\n    .dataframe tbody tr th:only-of-type {\n        vertical-align: middle;\n    }\n\n    .dataframe tbody tr th {\n        vertical-align: top;\n    }\n\n    .dataframe thead th {\n        text-align: right;\n    }\n</style>\n<table border=\"1\" class=\"dataframe\">\n  <thead>\n    <tr style=\"text-align: right;\">\n      <th></th>\n      <th>Outcome</th>\n      <th>Payoffs</th>\n      <th>Winners</th>\n      <th>num_times</th>\n    </tr>\n  </thead>\n  <tbody>\n    <tr>\n      <th>0</th>\n      <td>11</td>\n      <td>[-2, -2]</td>\n      <td>No winners</td>\n      <td>1</td>\n    </tr>\n  </tbody>\n</table>\n</div>"
     },
     "execution_count": 4,
     "metadata": {},
     "output_type": "execute_result"
    }
   ],
   "source": [
    "P1_strategy = 1\n",
    "P2_strategy = 1\n",
    "combined_strategies = [P1_strategy, P2_strategy]\n",
    "outcomes, results = prisoner_game.play_game(combined_strategies, n_times=1)\n",
    "prisoner_game.show_results()"
   ],
   "metadata": {
    "collapsed": false,
    "ExecuteTime": {
     "end_time": "2024-04-28T06:41:40.512886Z",
     "start_time": "2024-04-28T06:41:40.505997Z"
    }
   },
   "id": "81e08dfd09850931",
   "execution_count": 4
  },
  {
   "cell_type": "markdown",
   "source": [
    "### (2) EWL Quantization of Prisoner's Dilemma (Simulation)"
   ],
   "metadata": {
    "collapsed": false
   },
   "id": "ad68e3a2b179c1b"
  },
  {
   "cell_type": "code",
   "outputs": [
    {
     "name": "stdout",
     "output_type": "stream",
     "text": [
      "Game: prisoner\n",
      "Payoffs: \n"
     ]
    },
    {
     "data": {
      "text/plain": "  outcome   payoffs\n0      00  (-1, -1)\n1      01   (-3, 0)\n2      10   (0, -3)\n3      11  (-2, -2)",
      "text/html": "<div>\n<style scoped>\n    .dataframe tbody tr th:only-of-type {\n        vertical-align: middle;\n    }\n\n    .dataframe tbody tr th {\n        vertical-align: top;\n    }\n\n    .dataframe thead th {\n        text-align: right;\n    }\n</style>\n<table border=\"1\" class=\"dataframe\">\n  <thead>\n    <tr style=\"text-align: right;\">\n      <th></th>\n      <th>outcome</th>\n      <th>payoffs</th>\n    </tr>\n  </thead>\n  <tbody>\n    <tr>\n      <th>0</th>\n      <td>00</td>\n      <td>(-1, -1)</td>\n    </tr>\n    <tr>\n      <th>1</th>\n      <td>01</td>\n      <td>(-3, 0)</td>\n    </tr>\n    <tr>\n      <th>2</th>\n      <td>10</td>\n      <td>(0, -3)</td>\n    </tr>\n    <tr>\n      <th>3</th>\n      <td>11</td>\n      <td>(-2, -2)</td>\n    </tr>\n  </tbody>\n</table>\n</div>"
     },
     "execution_count": 5,
     "metadata": {},
     "output_type": "execute_result"
    }
   ],
   "source": [
    "prisoner_game_quantum = Game(game_name='prisoner', num_players=2, protocol=\"EWL\")\n",
    "prisoner_game_quantum.display_payoffs()"
   ],
   "metadata": {
    "collapsed": false,
    "ExecuteTime": {
     "end_time": "2024-04-28T06:41:43.478084Z",
     "start_time": "2024-04-28T06:41:41.926553Z"
    }
   },
   "id": "26da88335c9e5fa9",
   "execution_count": 5
  },
  {
   "cell_type": "code",
   "outputs": [
    {
     "name": "stdout",
     "output_type": "stream",
     "text": [
      "Transpiling circuit ....\n",
      "Executing transpiled circuit ....\n",
      "Circuit running ...\n",
      "Circuit finished running, getting counts ...\n"
     ]
    },
    {
     "data": {
      "text/plain": "<Figure size 956.183x284.278 with 1 Axes>",
      "image/png": "[encoded data removed]"
     },
     "execution_count": 6,
     "metadata": {},
     "output_type": "execute_result"
    }
   ],
   "source": [
    "P1_strategy = 'X'\n",
    "P2_strategy = 'S'\n",
    "combined_strategies = [P1_strategy, P2_strategy]\n",
    "outcomes, results = prisoner_game_quantum.play_game(combined_strategies, n_times=1)\n",
    "prisoner_game_quantum._quantum_game.circ.draw(output='mpl')"
   ],
   "metadata": {
    "collapsed": false,
    "ExecuteTime": {
     "end_time": "2024-04-28T06:41:53.069377Z",
     "start_time": "2024-04-28T06:41:43.436698Z"
    }
   },
   "id": "312351ac84b56576",
   "execution_count": 6
  },
  {
   "cell_type": "code",
   "outputs": [
    {
     "data": {
      "text/plain": "  Outcome  Payoffs   Winners  num_times\n0      01  [-3, 0]  Player 2          1",
      "text/html": "<div>\n<style scoped>\n    .dataframe tbody tr th:only-of-type {\n        vertical-align: middle;\n    }\n\n    .dataframe tbody tr th {\n        vertical-align: top;\n    }\n\n    .dataframe thead th {\n        text-align: right;\n    }\n</style>\n<table border=\"1\" class=\"dataframe\">\n  <thead>\n    <tr style=\"text-align: right;\">\n      <th></th>\n      <th>Outcome</th>\n      <th>Payoffs</th>\n      <th>Winners</th>\n      <th>num_times</th>\n    </tr>\n  </thead>\n  <tbody>\n    <tr>\n      <th>0</th>\n      <td>01</td>\n      <td>[-3, 0]</td>\n      <td>Player 2</td>\n      <td>1</td>\n    </tr>\n  </tbody>\n</table>\n</div>"
     },
     "execution_count": 7,
     "metadata": {},
     "output_type": "execute_result"
    }
   ],
   "source": [
    "prisoner_game_quantum.show_results()"
   ],
   "metadata": {
    "collapsed": false,
    "ExecuteTime": {
     "end_time": "2024-04-28T06:41:53.076981Z",
     "start_time": "2024-04-28T06:41:53.070696Z"
    }
   },
   "id": "9db58f24e24e54a5",
   "execution_count": 7
  },
  {
   "cell_type": "code",
   "outputs": [
    {
     "name": "stdout",
     "output_type": "stream",
     "text": [
      "Transpiling circuit ....\n",
      "Executing transpiled circuit ....\n",
      "Circuit running ...\n",
      "Circuit finished running, getting counts ...\n"
     ]
    },
    {
     "data": {
      "text/plain": "  Outcome  Payoffs   Winners  num_times\n0      01  [-3, 0]  Player 2         52\n1      10  [0, -3]  Player 1         48",
      "text/html": "<div>\n<style scoped>\n    .dataframe tbody tr th:only-of-type {\n        vertical-align: middle;\n    }\n\n    .dataframe tbody tr th {\n        vertical-align: top;\n    }\n\n    .dataframe thead th {\n        text-align: right;\n    }\n</style>\n<table border=\"1\" class=\"dataframe\">\n  <thead>\n    <tr style=\"text-align: right;\">\n      <th></th>\n      <th>Outcome</th>\n      <th>Payoffs</th>\n      <th>Winners</th>\n      <th>num_times</th>\n    </tr>\n  </thead>\n  <tbody>\n    <tr>\n      <th>0</th>\n      <td>01</td>\n      <td>[-3, 0]</td>\n      <td>Player 2</td>\n      <td>52</td>\n    </tr>\n    <tr>\n      <th>1</th>\n      <td>10</td>\n      <td>[0, -3]</td>\n      <td>Player 1</td>\n      <td>48</td>\n    </tr>\n  </tbody>\n</table>\n</div>"
     },
     "execution_count": 8,
     "metadata": {},
     "output_type": "execute_result"
    }
   ],
   "source": [
    "outcomes_sim, results_sim = prisoner_game_quantum.play_game(combined_strategies, n_times = 100)\n",
    "prisoner_game_quantum.show_results()"
   ],
   "metadata": {
    "collapsed": false,
    "ExecuteTime": {
     "end_time": "2024-04-28T06:42:05.359928Z",
     "start_time": "2024-04-28T06:41:53.080366Z"
    }
   },
   "id": "50f214b44b5787fa",
   "execution_count": 8
  },
  {
   "cell_type": "code",
   "outputs": [
    {
     "data": {
      "text/plain": "<Figure size 700x500 with 1 Axes>",
      "image/png": "[encoded data removed]"
     },
     "execution_count": 9,
     "metadata": {},
     "output_type": "execute_result"
    }
   ],
   "source": [
    "plot_histogram(outcomes_sim)"
   ],
   "metadata": {
    "collapsed": false,
    "ExecuteTime": {
     "end_time": "2024-04-28T06:42:05.454151Z",
     "start_time": "2024-04-28T06:42:05.356851Z"
    }
   },
   "id": "54e487ead321c560",
   "execution_count": 9
  },
  {
   "cell_type": "markdown",
   "source": [
    "### (3) EWL Quantization of Prisoner's Dilemma (IBM Cloud)"
   ],
   "metadata": {
    "collapsed": false
   },
   "id": "d8f765ce74a6fb51"
  },
  {
   "cell_type": "code",
   "outputs": [
    {
     "name": "stdout",
     "output_type": "stream",
     "text": [
      "Transpiling circuit ....\n",
      "Executing transpiled circuit ....\n",
      "Circuit running ...\n",
      "Circuit finished running, getting counts ...\n"
     ]
    },
    {
     "data": {
      "text/plain": "  Outcome   Payoffs     Winners  num_times\n0      11  [-2, -2]  No winners          7\n1      10   [0, -3]    Player 1         37\n2      00  [-1, -1]  No winners         15\n3      01   [-3, 0]    Player 2         41",
      "text/html": "<div>\n<style scoped>\n    .dataframe tbody tr th:only-of-type {\n        vertical-align: middle;\n    }\n\n    .dataframe tbody tr th {\n        vertical-align: top;\n    }\n\n    .dataframe thead th {\n        text-align: right;\n    }\n</style>\n<table border=\"1\" class=\"dataframe\">\n  <thead>\n    <tr style=\"text-align: right;\">\n      <th></th>\n      <th>Outcome</th>\n      <th>Payoffs</th>\n      <th>Winners</th>\n      <th>num_times</th>\n    </tr>\n  </thead>\n  <tbody>\n    <tr>\n      <th>0</th>\n      <td>11</td>\n      <td>[-2, -2]</td>\n      <td>No winners</td>\n      <td>7</td>\n    </tr>\n    <tr>\n      <th>1</th>\n      <td>10</td>\n      <td>[0, -3]</td>\n      <td>Player 1</td>\n      <td>37</td>\n    </tr>\n    <tr>\n      <th>2</th>\n      <td>00</td>\n      <td>[-1, -1]</td>\n      <td>No winners</td>\n      <td>15</td>\n    </tr>\n    <tr>\n      <th>3</th>\n      <td>01</td>\n      <td>[-3, 0]</td>\n      <td>Player 2</td>\n      <td>41</td>\n    </tr>\n  </tbody>\n</table>\n</div>"
     },
     "execution_count": 10,
     "metadata": {},
     "output_type": "execute_result"
    }
   ],
   "source": [
    "prisoner_game_quantum = Game(game_name='prisoner', num_players = 2, protocol=\"EWL\", group='open', backend=\"real_machine\")\n",
    "P1_strategy = 'X'\n",
    "P2_strategy = 'S'\n",
    "combined_strategies = [P1_strategy, P2_strategy]\n",
    "outcomes_q, results_q = prisoner_game_quantum.play_game(combined_strategies, n_times = 100)\n",
    "prisoner_game_quantum.show_results()"
   ],
   "metadata": {
    "collapsed": false,
    "ExecuteTime": {
     "end_time": "2024-04-28T06:43:31.042575Z",
     "start_time": "2024-04-28T06:42:05.452374Z"
    }
   },
   "id": "6d243599eb853dd9",
   "execution_count": 10
  },
  {
   "cell_type": "code",
   "outputs": [
    {
     "data": {
      "text/plain": "<Figure size 700x500 with 1 Axes>",
      "image/png": "[encoded data removed]"
     },
     "execution_count": 11,
     "metadata": {},
     "output_type": "execute_result"
    }
   ],
   "source": [
    "plot_histogram([outcomes_sim,outcomes_q], legend=['simulator', 'cloud'])"
   ],
   "metadata": {
    "collapsed": false,
    "ExecuteTime": {
     "end_time": "2024-04-28T06:43:31.237348Z",
     "start_time": "2024-04-28T06:43:31.039664Z"
    }
   },
   "id": "b6efbb23ef073706",
   "execution_count": 11
  },
  {
   "cell_type": "markdown",
   "source": [
    "# EWL Quantization Protocol Towards Nash Equilibrium (IBM Cloud)"
   ],
   "metadata": {
    "collapsed": false
   },
   "id": "4a4b51cfbdc3a6c1"
  },
  {
   "cell_type": "code",
   "outputs": [
    {
     "name": "stdout",
     "output_type": "stream",
     "text": [
      "Transpiling circuit ....\n",
      "Executing transpiled circuit ....\n",
      "Circuit running ...\n",
      "Circuit finished running, getting counts ...\n",
      "Transpiling circuit ....\n",
      "Executing transpiled circuit ....\n",
      "Circuit running ...\n",
      "Circuit finished running, getting counts ...\n",
      "Transpiling circuit ....\n",
      "Executing transpiled circuit ....\n",
      "Circuit running ...\n",
      "Circuit finished running, getting counts ...\n",
      "Transpiling circuit ....\n",
      "Executing transpiled circuit ....\n",
      "Circuit running ...\n",
      "Circuit finished running, getting counts ...\n",
      "Best Outcome: 100\n",
      "Best Strategies for Player 1 and Player 2: ('X', 'X')\n"
     ]
    }
   ],
   "source": [
    "strategies = ['X', 'S']  # Defect or Cooperate\n",
    "\n",
    "best_outcome = float('-inf')\n",
    "best_strategies = None\n",
    "\n",
    "for P1_strategy, P2_strategy in product(strategies, repeat=2):\n",
    "    prisoner_game_quantum = Game(game_name='prisoner', num_players=2, protocol=\"EWL\", backend=\"real_machine\")\n",
    "    combined_strategies = [P1_strategy, P2_strategy]\n",
    "    outcomes_q, results_q = prisoner_game_quantum.play_game(combined_strategies, n_times=100)\n",
    "    total_payoff = sum(outcomes_q.values())\n",
    "    if total_payoff > best_outcome:\n",
    "        best_outcome = total_payoff\n",
    "        best_strategies = (P1_strategy, P2_strategy)\n",
    "\n",
    "print(\"Best Outcome:\", best_outcome)\n",
    "print(\"Best Strategies for Player 1 and Player 2:\", best_strategies)"
   ],
   "metadata": {
    "collapsed": false,
    "ExecuteTime": {
     "end_time": "2024-04-28T07:01:36.210826Z",
     "start_time": "2024-04-28T06:43:31.191034Z"
    }
   },
   "id": "f03d57548c0965f5",
   "execution_count": 12
  },
  {
   "cell_type": "code",
   "outputs": [],
   "source": [
    "custom_payoff = {\n",
    "    ('A', 'A', 'A'): (5, 5, 5),\n",
    "    ('A', 'A', 'B'): (0, 8, 8),\n",
    "    ('A', 'B', 'A'): (8, 0, 8),\n",
    "    ('A', 'B', 'B'): (0, 0, 10),\n",
    "    ('B', 'A', 'A'): (8, 8, 0),\n",
    "    ('B', 'A', 'B'): (10, 0, 0),\n",
    "    ('B', 'B', 'A'): (0, 10, 0),\n",
    "    ('B', 'B', 'B'): (1, 1, 1)\n",
    "}\n",
    "\n",
    "three_player_game = Game(game_name='custom_game', protocol='EWL', num_players=3, payoff_table=custom_payoff, backend='real_machine')\n",
    "\n",
    "strategies = ['X', 'S'] \n",
    "\n",
    "best_outcome = float('-inf')\n",
    "best_strategies = None\n",
    "\n",
    "for P1_strategy, P2_strategy, P3_strategy in product(strategies, repeat=3):\n",
    "    combined_strategies = [P1_strategy, P2_strategy, P3_strategy]\n",
    "    outcomes_q, results_q = three_player_game.play_game(combined_strategies, n_times=100)\n",
    "    total_payoff = sum(outcomes_q.values())\n",
    "    if total_payoff > best_outcome:\n",
    "        best_outcome = total_payoff\n",
    "        best_strategies = (P1_strategy, P2_strategy, P3_strategy)\n",
    "\n",
    "print(\"Best Outcome:\", best_outcome)\n",
    "print(\"Best Strategies for Player 1, 2, and 3:\", best_strategies)"
   ],
   "metadata": {
    "collapsed": false
   },
   "id": "10d800b7610c9da5",
   "execution_count": null
  }
 ],
 "metadata": {
  "kernelspec": {
   "display_name": "Python 3",
   "language": "python",
   "name": "python3"
  },
  "language_info": {
   "codemirror_mode": {
    "name": "ipython",
    "version": 2
   },
   "file_extension": ".py",
   "mimetype": "text/x-python",
   "name": "python",
   "nbconvert_exporter": "python",
   "pygments_lexer": "ipython2",
   "version": "2.7.6"
  }
 },
 "nbformat": 4,
 "nbformat_minor": 5
}
